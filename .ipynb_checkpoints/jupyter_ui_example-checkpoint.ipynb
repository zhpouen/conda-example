{
 "cells": [
  {
   "cell_type": "code",
   "execution_count": null,
   "id": "e9bd0233",
   "metadata": {},
   "outputs": [],
   "source": [
    "import plotly.express as px #导入Plotly.express工具，命名为px\n",
    "\n",
    "data = dict( #准备漏斗数据\n",
    "    number=[59, 32, 18, 9, 2],\n",
    "    stage=[\"访问数\", \"下载数\", \"注册数\", \"搜索数\", \"付款数\"])\n",
    "fig = px.funnel(data, x='number', y='stage') #把数据传进漏斗图\n",
    "fig.show() #显示漏斗图"
   ]
  },
  {
   "cell_type": "code",
   "execution_count": null,
   "id": "e8f9b320",
   "metadata": {},
   "outputs": [],
   "source": [
    "import pandas as pd\n",
    "\n",
    "stages = [\"访问数\", \"下载数\", \"注册数\", \"搜索数\", \"付款数\"]\n",
    "df_male = pd.DataFrame(dict(number = [30, 15, 10, 6, 1], stage = stages))\n",
    "df_male['性别'] = '男'\n",
    "df_female = pd.DataFrame(dict(number = [29, 17, 8, 3, 1], stage = stages))\n",
    "df_female['性别'] = '女'\n",
    "df = pd.concat([df_male, df_female], axis = 0)\n",
    "fig = px.funnel(df, x='number', y='stage', color='性别')\n",
    "fig.show()"
   ]
  }
 ],
 "metadata": {
  "kernelspec": {
   "display_name": "Python 3 (ipykernel)",
   "language": "python",
   "name": "python3"
  },
  "language_info": {
   "codemirror_mode": {
    "name": "ipython",
    "version": 3
   },
   "file_extension": ".py",
   "mimetype": "text/x-python",
   "name": "python",
   "nbconvert_exporter": "python",
   "pygments_lexer": "ipython3",
   "version": "3.11.4"
  }
 },
 "nbformat": 4,
 "nbformat_minor": 5
}
