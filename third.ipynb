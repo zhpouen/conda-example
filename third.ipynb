{
 "cells": [
  {
   "cell_type": "markdown",
   "metadata": {},
   "source": [
    "# 机器学习项目步骤\n",
    "1. 定义问题\n",
    "2. 收集数据和预处理\n",
    "3. 选择算法和确定模型\n",
    "4. 训练拟合模型\n",
    "5. 评估并优化模型性能"
   ]
  },
  {
   "cell_type": "markdown",
   "metadata": {},
   "source": [
    "# 定义问题\n",
    "根据微信公众号的文章的点赞数、转发数等，预测文章的浏览量"
   ]
  },
  {
   "cell_type": "markdown",
   "metadata": {},
   "source": [
    "# 收集数据和预处理"
   ]
  },
  {
   "cell_type": "code",
   "execution_count": null,
   "metadata": {},
   "outputs": [],
   "source": []
  }
 ],
 "metadata": {
  "language_info": {
   "name": "python"
  },
  "orig_nbformat": 4
 },
 "nbformat": 4,
 "nbformat_minor": 2
}
